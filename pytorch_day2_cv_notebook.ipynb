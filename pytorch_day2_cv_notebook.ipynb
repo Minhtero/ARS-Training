{
  "nbformat": 4,
  "nbformat_minor": 5,
  "metadata": {},
  "cells": [
    {
      "id": "b1ef3f30",
      "cell_type": "markdown",
      "source": "\n# 📚 Ngày 2 — PyTorch & Deep Learning cho Computer Vision (Chuẩn bị phỏng vấn)\n**Thời lượng đề xuất:** 5 giờ học + 1 giờ thực hành (code).\n\n**Mục tiêu:**\n\n- Hiểu PyTorch cơ bản: `torch.tensor`, `requires_grad`, `nn.Module`, `forward`, optimizer, `loss.backward()`.\n\n- Làm việc với `DataLoader` (MNIST), xây CNN nhỏ (2 conv + 2 fc), viết training loop, tính accuracy, lưu/load model.\n- In confusion matrix (dùng `sklearn`) và so sánh ảnh hưởng của batch size (64 vs 128).\n\n\n**Ghi chú:** Notebook này được viết bằng tiếng Việt, kèm nhiều chú thích. Nếu chạy trên Colab, nhớ chọn Runtime > GPU.\n",
      "metadata": {}
    },
    {
      "id": "6c9e9fd5",
      "cell_type": "markdown",
      "source": "\n## 0) Cài đặt (nếu cần)\n\nCác dòng dưới đây có thể cần chạy **nếu máy/em chưa cài** PyTorch, torchvision, scikit-learn, matplotlib. Ở Colab thường đã cài sẵn (hoặc dùng `pip` phù hợp với CUDA).\n\n```bash\n# Chỉ chạy nếu cần. Có thể cần thay command install phù hợp với CUDA trên máy em.\n# !pip install torch torchvision torchaudio --index-url https://download.pytorch.org/whl/cu117\n# !pip install scikit-learn matplotlib tqdm\n```\n\nNếu em dùng Colab: Runtime > Change runtime type > GPU, sau đó chạy lại cell import.\n",
      "metadata": {}
    },
    {
      "id": "7ca786c0",
      "cell_type": "code",
      "metadata": {},
      "execution_count": null,
      "source": "# 1) Imports & Device\nimport os\nimport time\nimport random\nfrom collections import OrderedDict\n\nimport numpy as np\nimport matplotlib.pyplot as plt\n\nimport torch\nimport torch.nn as nn\nimport torch.nn.functional as F\nimport torch.optim as optim\nfrom torch.utils.data import DataLoader, random_split\nfrom torchvision import datasets, transforms\n\n# Optional: tqdm for progress bars\ntry:\n    from tqdm import tqdm\nexcept Exception:\n    tqdm = lambda x: x\n\n# sklearn for confusion matrix and classification report\nfrom sklearn.metrics import confusion_matrix, classification_report\n\n# Device (GPU nếu có)\ndevice = torch.device('cuda' if torch.cuda.is_available() else 'cpu')\nprint('Device:', device)\n\n# Reproducibility\nSEED = 42\nrandom.seed(SEED)\nnp.random.seed(SEED)\ntorch.manual_seed(SEED)\nif torch.cuda.is_available():\n    torch.cuda.manual_seed_all(SEED)\n\n# Create output folder\nos.makedirs('/mnt/data/pytorch_day2', exist_ok=True)\nprint('/mnt/data/pytorch_day2 is ready')\n",
      "outputs": []
    },
    {
      "id": "1c47482a",
      "cell_type": "markdown",
      "source": "\n## 2) Datasets & DataLoader (MNIST)\n- Ta sử dụng MNIST để tập trung vào pipeline: download, transform, DataLoader.\n- Nếu muốn test CIFAR10, chỉ cần đổi dataset và transforms tương ứng.\n",
      "metadata": {}
    },
    {
      "id": "e60cd47b",
      "cell_type": "code",
      "metadata": {},
      "execution_count": null,
      "source": "# 2.1 Transforms: normalize theo mean/std của MNIST (grayscale)\nfrom torchvision import transforms\n\ntransform = transforms.Compose([\n    transforms.ToTensor(),            # trả về tensor shape (C,H,W) và normalize [0,1]\n    transforms.Normalize((0.1307,), (0.3081,))  # mean/std MNIST\n])\n\n# 2.2 Download dataset\nroot = '/mnt/data/pytorch_day2/data'\ntrain_dataset = datasets.MNIST(root=root, train=True, download=True, transform=transform)\ntest_dataset  = datasets.MNIST(root=root, train=False, download=True, transform=transform)\n\nprint('Train size =', len(train_dataset))\nprint('Test size  =', len(test_dataset))\n\n# 2.3 Create DataLoader: default batch_size 64 (we will experiment with 128 later)\nBATCH_SIZE = 64\ntrain_loader = DataLoader(train_dataset, batch_size=BATCH_SIZE, shuffle=True, num_workers=2, pin_memory=True)\ntest_loader  = DataLoader(test_dataset,  batch_size=BATCH_SIZE, shuffle=False, num_workers=2, pin_memory=True)\n\n# Visual check: show some samples\nimport matplotlib.pyplot as plt\n\ndef show_images(dataset, n=6):\n    fig, axes = plt.subplots(1, n, figsize=(12,2))\n    for i in range(n):\n        img, label = dataset[i]\n        img = img.squeeze().numpy()\n        axes[i].imshow(img, cmap='gray')\n        axes[i].set_title(str(label))\n        axes[i].axis('off')\n    plt.show()\n\nshow_images(train_dataset, n=6)\n",
      "outputs": []
    },
    {
      "id": "620649d9",
      "cell_type": "markdown",
      "source": "\n## 3) Xây CNN nhỏ (2 conv layers + 2 fully connected)\n- Mô tả kiến trúc: Conv -> ReLU -> MaxPool -> Conv -> ReLU -> MaxPool -> Flatten -> FC -> ReLU -> FC(logits)\n- Ta giải thích shapes từng bước trong code.\n",
      "metadata": {}
    },
    {
      "id": "beff7fd1",
      "cell_type": "code",
      "metadata": {},
      "execution_count": null,
      "source": "import torch.nn.functional as F\n\nclass SimpleCNN(nn.Module):\n    def __init__(self, num_classes=10):\n        super(SimpleCNN, self).__init__()\n        # Conv1: input channels=1 (MNIST), output channels=16, kernel=3\n        self.conv1 = nn.Conv2d(1, 16, kernel_size=3, padding=1)  # output size -> (16,28,28)\n        self.bn1 = nn.BatchNorm2d(16)\n        # Conv2: input 16, output 32, kernel=3\n        self.conv2 = nn.Conv2d(16, 32, kernel_size=3, padding=1) # output size -> (32,14,14) after pool\n        self.bn2 = nn.BatchNorm2d(32)\n        # After two pools: input 28x28 -> 14x14 -> 7x7\n        # FC layers: flatten 32*7*7 -> hidden 128 -> out num_classes\n        self.fc1 = nn.Linear(32 * 7 * 7, 128)\n        self.dropout = nn.Dropout(0.5)\n        self.fc2 = nn.Linear(128, num_classes)\n\n    def forward(self, x):\n        # x: (batch, 1, 28, 28)\n        x = self.conv1(x)            # -> (batch,16,28,28)\n        x = self.bn1(x)\n        x = F.relu(x)\n        x = F.max_pool2d(x, 2)      # -> (batch,16,14,14)\n\n        x = self.conv2(x)           # -> (batch,32,14,14)\n        x = self.bn2(x)\n        x = F.relu(x)\n        x = F.max_pool2d(x, 2)      # -> (batch,32,7,7)\n\n        x = x.view(x.size(0), -1)   # flatten -> (batch, 32*7*7)\n        x = self.fc1(x)\n        x = F.relu(x)\n        x = self.dropout(x)\n        x = self.fc2(x)             # logits\n        return x\n\n# Instantiate and print parameter count\nmodel = SimpleCNN().to(device)\nprint(model)\n\n# Count parameters\ndef count_parameters(model):\n    return sum(p.numel() for p in model.parameters() if p.requires_grad)\n\nprint('Trainable params:', count_parameters(model))\n",
      "outputs": []
    },
    {
      "id": "d86a118d",
      "cell_type": "markdown",
      "source": "\n## 4) Loss, Optimizer & Utility functions\n- Chúng ta sẽ dùng `CrossEntropyLoss` (kết hợp softmax + NLL) và `optim.SGD` với momentum.\n- Viết hàm `train_one_epoch`, `evaluate` và `compute_accuracy`.\n",
      "metadata": {}
    },
    {
      "id": "3f4444e5",
      "cell_type": "code",
      "metadata": {},
      "execution_count": null,
      "source": "# 4.1 Loss and optimizer\ncriterion = nn.CrossEntropyLoss()\noptimizer = optim.SGD(model.parameters(), lr=0.01, momentum=0.9)\n# Optional LR scheduler\nscheduler = optim.lr_scheduler.StepLR(optimizer, step_size=3, gamma=0.1)\n\n# 4.2 Utility: accuracy\ndef compute_accuracy(logits, labels):\n    preds = torch.argmax(logits, dim=1)\n    correct = (preds == labels).sum().item()\n    return correct / labels.size(0)\n\n# 4.3 Train & Eval loops\n\ndef train_one_epoch(model, loader, optimizer, criterion, device):\n    model.train()\n    running_loss = 0.0\n    running_corrects = 0\n    total = 0\n    for images, labels in tqdm(loader):\n        images = images.to(device)\n        labels = labels.to(device)\n\n        # Zero the parameter gradients\n        optimizer.zero_grad()\n\n        # Forward\n        outputs = model(images)\n        loss = criterion(outputs, labels)\n\n        # Backward\n        loss.backward()\n        optimizer.step()\n\n        # Stats\n        batch_size = labels.size(0)\n        running_loss += loss.item() * batch_size\n        running_corrects += (torch.argmax(outputs, dim=1) == labels).sum().item()\n        total += batch_size\n\n    epoch_loss = running_loss / total\n    epoch_acc  = running_corrects / total\n    return epoch_loss, epoch_acc\n\n\ndef evaluate(model, loader, criterion, device):\n    model.eval()\n    running_loss = 0.0\n    running_corrects = 0\n    total = 0\n    all_preds = []\n    all_labels = []\n    with torch.no_grad():\n        for images, labels in loader:\n            images = images.to(device)\n            labels = labels.to(device)\n            outputs = model(images)\n            loss = criterion(outputs, labels)\n\n            batch_size = labels.size(0)\n            running_loss += loss.item() * batch_size\n            running_corrects += (torch.argmax(outputs, dim=1) == labels).sum().item()\n            total += batch_size\n\n            all_preds.append(torch.argmax(outputs, dim=1).cpu().numpy())\n            all_labels.append(labels.cpu().numpy())\n\n    epoch_loss = running_loss / total\n    epoch_acc  = running_corrects / total\n    all_preds = np.concatenate(all_preds)\n    all_labels = np.concatenate(all_labels)\n    return epoch_loss, epoch_acc, all_preds, all_labels\n",
      "outputs": []
    },
    {
      "id": "74ea704d",
      "cell_type": "markdown",
      "source": "\n## 5) Full training script (run experiments)\n- Hàm `run_training` sẽ train model trong N epochs, lưu lịch sử loss/acc và lưu model cuối.\n- Sau khi train, ta sẽ evaluate và in confusion matrix.\n",
      "metadata": {}
    },
    {
      "id": "b3030607",
      "cell_type": "code",
      "metadata": {},
      "execution_count": null,
      "source": "def plot_history(history, title_prefix=''):\n    epochs = np.arange(1, len(history['train_loss'])+1)\n    plt.figure(figsize=(10,4))\n    plt.subplot(1,2,1)\n    plt.plot(epochs, history['train_loss'], label='train_loss')\n    plt.plot(epochs, history['val_loss'], label='val_loss')\n    plt.xlabel('Epoch')\n    plt.ylabel('Loss')\n    plt.legend()\n    plt.title(title_prefix + ' Loss')\n\n    plt.subplot(1,2,2)\n    plt.plot(epochs, history['train_acc'], label='train_acc')\n    plt.plot(epochs, history['val_acc'], label='val_acc')\n    plt.xlabel('Epoch')\n    plt.ylabel('Accuracy')\n    plt.legend()\n    plt.title(title_prefix + ' Accuracy')\n    plt.show()\n\n\ndef plot_confusion_matrix(cm, classes, normalize=False, title='Confusion matrix'):\n    if normalize:\n        cm = cm.astype('float') / cm.sum(axis=1)[:, np.newaxis]\n    plt.figure(figsize=(6,6))\n    plt.imshow(cm, interpolation='nearest', cmap=plt.cm.Blues)\n    plt.title(title)\n    plt.colorbar()\n    tick_marks = np.arange(len(classes))\n    plt.xticks(tick_marks, classes, rotation=45)\n    plt.yticks(tick_marks, classes)\n\n    fmt = '.2f' if normalize else 'd'\n    thresh = cm.max() / 2.\n    for i in range(cm.shape[0]):\n        for j in range(cm.shape[1]):\n            plt.text(j, i, format(cm[i, j], fmt),\n                     horizontalalignment='center',\n                     color='white' if cm[i, j] > thresh else 'black')\n    plt.ylabel('True label')\n    plt.xlabel('Predicted label')\n    plt.tight_layout()\n    plt.show()\n\n\ndef run_training(model, train_loader, val_loader, optimizer, criterion, device, epochs=5, scheduler=None, model_name='model.pth'):\n    history = {'train_loss':[], 'train_acc':[], 'val_loss':[], 'val_acc':[]}\n    best_val_acc = 0.0\n    best_state = None\n    for epoch in range(1, epochs+1):\n        start = time.time()\n        train_loss, train_acc = train_one_epoch(model, train_loader, optimizer, criterion, device)\n        val_loss, val_acc, val_preds, val_labels = evaluate(model, val_loader, criterion, device)\n        if scheduler is not None:\n            scheduler.step()\n        elapsed = time.time() - start\n\n        history['train_loss'].append(train_loss)\n        history['train_acc'].append(train_acc)\n        history['val_loss'].append(val_loss)\n        history['val_acc'].append(val_acc)\n\n        print(f\"Epoch {epoch}/{epochs} - time: {elapsed:.1f}s - train_loss: {train_loss:.4f}, train_acc: {train_acc:.4f} - val_loss: {val_loss:.4f}, val_acc: {val_acc:.4f}\")\n\n        # Save best\n        if val_acc > best_val_acc:\n            best_val_acc = val_acc\n            best_state = model.state_dict()\n            torch.save(best_state, os.path.join('/mnt/data/pytorch_day2', model_name))\n            print('Saved best model with val_acc =', best_val_acc)\n\n    # At the end, return history and last evaluation\n    return history, (val_loss, val_acc, val_preds, val_labels)\n\n# Run a short experiment: 5 epochs with BATCH_SIZE already set to 64\nmodel = SimpleCNN().to(device)\noptimizer = optim.SGD(model.parameters(), lr=0.01, momentum=0.9)\n\nhistory, eval_res = run_training(model, train_loader, test_loader, optimizer, criterion, device, epochs=5, scheduler=scheduler, model_name='mnist_cnn_bs64.pth')\nplot_history(history, title_prefix='MNIST_CNN_bs64')\n\n# Confusion matrix and classification report\nval_loss, val_acc, val_preds, val_labels = eval_res\ncm = confusion_matrix(val_labels, val_preds)\nprint('Confusion matrix (counts):')\nplot_confusion_matrix(cm, classes=[str(i) for i in range(10)], normalize=False)\nprint('Classification report:')\nprint(classification_report(val_labels, val_preds))\n",
      "outputs": []
    },
    {
      "id": "7d0e5f4e",
      "cell_type": "markdown",
      "source": "\n## 6) So sánh Batch Size (64 vs 128)\n- Dựng hàm `experiment_batch_size` để train ngắn (ví dụ 5 epoch) với batch size khác nhau và so sánh loss/acc.\n- Lưu ý: khi tăng batch size, learning rate cũng có thể cần tăng (rule-of-thumb: LR ∝ batch_size), nhưng ở đây ta giữ LR cố định để quan sát khác biệt.\n",
      "metadata": {}
    },
    {
      "id": "20e193fd",
      "cell_type": "code",
      "metadata": {},
      "execution_count": null,
      "source": "def experiment_batch_size(batch_size, epochs=5):\n    print('Running experiment with batch_size =', batch_size)\n    train_loader = DataLoader(train_dataset, batch_size=batch_size, shuffle=True, num_workers=2, pin_memory=True)\n    test_loader  = DataLoader(test_dataset,  batch_size=batch_size, shuffle=False, num_workers=2, pin_memory=True)\n    model = SimpleCNN().to(device)\n    optimizer = optim.SGD(model.parameters(), lr=0.01, momentum=0.9)\n    history, eval_res = run_training(model, train_loader, test_loader, optimizer, criterion, device, epochs=epochs,\n                                     scheduler=optim.lr_scheduler.StepLR(optimizer, step_size=3, gamma=0.1),\n                                     model_name=f'mnist_cnn_bs{batch_size}.pth')\n    return history, eval_res\n\n# Run experiments\nhist64, res64 = experiment_batch_size(64, epochs=5)\nhist128, res128 = experiment_batch_size(128, epochs=5)\n\nprint('\\n--- Summary ---')\nprint('BS=64 val_acc:', res64[1])\nprint('BS=128 val_acc:', res128[1])\n\n# Plot comparison (accuracy)\nplt.figure(figsize=(6,4))\nplt.plot(hist64['val_acc'], label='val_acc_bs64')\nplt.plot(hist128['val_acc'], label='val_acc_bs128')\nplt.xlabel('Epoch')\nplt.ylabel('Validation Accuracy')\nplt.legend()\nplt.title('Compare validation accuracy')\nplt.show()\n",
      "outputs": []
    },
    {
      "id": "70da686b",
      "cell_type": "markdown",
      "source": "\n## 7) Lưu & Tải model\nVí dụ lưu `state_dict` và cách load để inference.\n",
      "metadata": {}
    },
    {
      "id": "5dc9db95",
      "cell_type": "code",
      "metadata": {},
      "execution_count": null,
      "source": "# Load best model example\nmodel_path = '/mnt/data/pytorch_day2/mnist_cnn_bs64.pth'\nif os.path.exists(model_path):\n    model = SimpleCNN().to(device)\n    model.load_state_dict(torch.load(model_path, map_location=device))\n    model.eval()\n    print('Loaded model from', model_path)\nelse:\n    print('Model file not found:', model_path)\n\n# Inference on few test images\nmodel.eval()\nimgs, labels = next(iter(test_loader))\nimgs = imgs.to(device)\nlabels = labels.to(device)\nwith torch.no_grad():\n    logits = model(imgs[:16])\n    preds = torch.argmax(logits, dim=1)\n\n# show first 8 predictions\nplt.figure(figsize=(12,3))\nfor i in range(8):\n    plt.subplot(1,8,i+1)\n    img = imgs[i].cpu().squeeze().numpy()\n    plt.imshow(img, cmap='gray')\n    plt.title(f'p={preds[i].item()}, t={labels[i].item()}')\n    plt.axis('off')\nplt.show()\n",
      "outputs": []
    },
    {
      "id": "8256dd3a",
      "cell_type": "markdown",
      "source": "\n## 8) Gợi ý trả lời phỏng vấn — Các câu hỏi phổ biến & cách trả lời ngắn\n- **Q:** Tại sao dùng `CrossEntropyLoss` cho classification?\n  - **A:** Vì `CrossEntropyLoss` kết hợp softmax + NLL, phù hợp cho multi-class logits đầu ra.\n\n- **Q:** Hiểu `requires_grad` là gì?\n  - **A:** Nếu tensor `requires_grad=True`, PyTorch sẽ theo dõi các thao tác để tính gradient trong backprop.\n\n- **Q:** Khi nào dùng `model.train()` vs `model.eval()`?\n  - **A:** `model.train()` bật dropout/batchnorm ở chế độ train; `model.eval()` tắt dropout và dùng running stats của batchnorm.\n\n- **Q:** Làm sao tránh overfitting?\n  - **A:** Data augmentation, dropout, weight decay (L2), early stopping, tăng dữ liệu, reducing model capacity.\n\n- **Q:** Nên tăng LR hay batch size để train nhanh?\n  - **A:** Cân nhắc; thường LR ∝ batch_size nhưng phải điều chỉnh. Có kỹ thuật LR warmup, cyclical LR.\n\n- **Q:** Mô tả nhanh training loop?\n  - **A:** forward -> compute loss -> backward (loss.backward()) -> optimizer.step() -> zero_grad().\n\n- **Q:** Khác biệt `state_dict` và lưu cả model?\n  - **A:** `state_dict` chứa weights; lưu cả model (pickle) có thể dễ load nhưng ít linh hoạt + có vấn đề tương thích.\n",
      "metadata": {}
    },
    {
      "id": "eb6d136e",
      "cell_type": "markdown",
      "source": "\n## 9) Bài tập (1h) — Em làm code trong notebook\n1. Train CNN trên MNIST 5–10 epoch (nếu thời gian), in loss/accuracy mỗi epoch (đã có trong notebook).\n2. Thử tăng batch size lên 128, so sánh loss/accuracy (đã có experiment function).\n3. (Bonus) Thay optimizer sang `Adam(lr=1e-3)` và xem khác biệt.\n4. (CV task) Thử chuyển dataset sang **CIFAR10**: thay transform (normalize 3 channels) và sửa mạng (input channels=3, cần small changes).\n\nKhi xong, gửi cho thầy file logs hoặc screenshot training logs để thầy review.\n",
      "metadata": {}
    }
  ]
}