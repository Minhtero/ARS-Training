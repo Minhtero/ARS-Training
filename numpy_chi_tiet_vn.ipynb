{
 "cells": [
  {
   "cell_type": "markdown",
   "id": "09c6737c",
   "metadata": {},
   "source": [
    "\n",
    "# 📘 Học NumPy chi tiết (Tiếng Việt)\n",
    "\n",
    "Trong notebook này, chúng ta sẽ học **NumPy** một cách chi tiết với nhiều ví dụ và bài tập thực hành.\n",
    "\n",
    "---\n"
   ]
  },
  {
   "cell_type": "markdown",
   "id": "5ce4b455",
   "metadata": {},
   "source": [
    "## 1. Cài đặt và import thư viện"
   ]
  },
  {
   "cell_type": "code",
   "execution_count": 1,
   "id": "a31f3dc9",
   "metadata": {},
   "outputs": [
    {
     "name": "stdout",
     "output_type": "stream",
     "text": [
      "Phiên bản NumPy: 2.3.3\n"
     ]
    }
   ],
   "source": [
    "\n",
    "# Nếu chưa có numpy thì cài đặt (chỉ cần chạy 1 lần)\n",
    "# !pip install numpy\n",
    "\n",
    "import numpy as np\n",
    "print(\"Phiên bản NumPy:\", np.__version__)\n"
   ]
  },
  {
   "cell_type": "markdown",
   "id": "b366a03f",
   "metadata": {},
   "source": [
    "## 2. Tạo mảng NumPy"
   ]
  },
  {
   "cell_type": "code",
   "execution_count": 2,
   "id": "08e2dc37",
   "metadata": {},
   "outputs": [
    {
     "name": "stdout",
     "output_type": "stream",
     "text": [
      "Mảng arr1: [1 2 3 4 5]\n",
      "Mảng 2D arr2:\n",
      " [[1 2 3]\n",
      " [4 5 6]]\n",
      "zeros: [[0. 0. 0.]\n",
      " [0. 0. 0.]]\n",
      "ones: [[1. 1. 1.]\n",
      " [1. 1. 1.]\n",
      " [1. 1. 1.]]\n",
      "full: [[7 7]\n",
      " [7 7]]\n",
      "random (0-1): [[0.79858296 0.43285746 0.21201305]\n",
      " [0.10381422 0.66433791 0.84853334]]\n",
      "random int (0-9): [[6 5 6]\n",
      " [4 3 0]]\n"
     ]
    }
   ],
   "source": [
    "\n",
    "# Tạo mảng từ list Python\n",
    "arr1 = np.array([1, 2, 3, 4, 5])\n",
    "print(\"Mảng arr1:\", arr1)\n",
    "\n",
    "# Tạo mảng 2 chiều\n",
    "arr2 = np.array([[1, 2, 3], [4, 5, 6]])\n",
    "print(\"Mảng 2D arr2:\\n\", arr2)\n",
    "\n",
    "# zeros, ones, full\n",
    "print(\"zeros:\", np.zeros((2,3)))\n",
    "print(\"ones:\", np.ones((3,3)))\n",
    "print(\"full:\", np.full((2,2), 7))\n",
    "\n",
    "# random\n",
    "print(\"random (0-1):\", np.random.rand(2,3))\n",
    "print(\"random int (0-9):\", np.random.randint(0,10,(2,3)))\n"
   ]
  },
  {
   "cell_type": "markdown",
   "id": "99e5ea02",
   "metadata": {},
   "source": [
    "## 3. Shape, Reshape, Indexing, Slicing"
   ]
  },
  {
   "cell_type": "code",
   "execution_count": 3,
   "id": "cf9bbd01",
   "metadata": {},
   "outputs": [
    {
     "name": "stdout",
     "output_type": "stream",
     "text": [
      "arr: [ 0  1  2  3  4  5  6  7  8  9 10 11]\n",
      "shape: (12,)\n",
      "arr2d:\n",
      " [[ 0  1  2  3]\n",
      " [ 4  5  6  7]\n",
      " [ 8  9 10 11]]\n",
      "arr2d[0,0] = 0\n",
      "arr2d[2,3] = 11\n",
      "Hàng 1: [0 1 2 3]\n",
      "Cột 2: [1 5 9]\n",
      "Khối giữa:\n",
      " [[1 2]\n",
      " [5 6]]\n"
     ]
    }
   ],
   "source": [
    "\n",
    "arr = np.arange(12)  # [0, 1, 2, ..., 11]\n",
    "print(\"arr:\", arr)\n",
    "print(\"shape:\", arr.shape)\n",
    "\n",
    "# Reshape\n",
    "arr2d = arr.reshape(3,4)\n",
    "print(\"arr2d:\\n\", arr2d)\n",
    "\n",
    "# Indexing\n",
    "print(\"arr2d[0,0] =\", arr2d[0,0])\n",
    "print(\"arr2d[2,3] =\", arr2d[2,3])\n",
    "\n",
    "# Slicing\n",
    "print(\"Hàng 1:\", arr2d[0,:])\n",
    "print(\"Cột 2:\", arr2d[:,1])\n",
    "print(\"Khối giữa:\\n\", arr2d[0:2, 1:3])\n"
   ]
  },
  {
   "cell_type": "markdown",
   "id": "51c84828",
   "metadata": {},
   "source": [
    "## 4. Các phép toán trong NumPy"
   ]
  },
  {
   "cell_type": "code",
   "execution_count": 4,
   "id": "dfac1b61",
   "metadata": {},
   "outputs": [
    {
     "name": "stdout",
     "output_type": "stream",
     "text": [
      "Cộng: [[11 22 33]\n",
      " [44 55 66]]\n",
      "Trừ: [[ -9 -18 -27]\n",
      " [-36 -45 -54]]\n",
      "Nhân từng phần: [[ 10  40  90]\n",
      " [160 250 360]]\n",
      "Chia: [[0.1 0.1 0.1]\n",
      " [0.1 0.1 0.1]]\n",
      "Nhân ma trận: [[140 320]\n",
      " [320 770]]\n",
      "Tổng: 21\n",
      "Trung bình: 3.5\n",
      "Max: 6\n",
      "Min: 1\n"
     ]
    }
   ],
   "source": [
    "\n",
    "x = np.array([[1,2,3],[4,5,6]])\n",
    "y = np.array([[10,20,30],[40,50,60]])\n",
    "\n",
    "print(\"Cộng:\", x+y)\n",
    "print(\"Trừ:\", x-y)\n",
    "print(\"Nhân từng phần:\", x*y)\n",
    "print(\"Chia:\", x/y)\n",
    "\n",
    "# Nhân ma trận (dot)\n",
    "print(\"Nhân ma trận:\", np.dot(x, y.T))\n",
    "\n",
    "# Thống kê\n",
    "print(\"Tổng:\", np.sum(x))\n",
    "print(\"Trung bình:\", np.mean(x))\n",
    "print(\"Max:\", np.max(x))\n",
    "print(\"Min:\", np.min(x))\n"
   ]
  },
  {
   "cell_type": "markdown",
   "id": "afe12ffa",
   "metadata": {},
   "source": [
    "## 5. Hàm Normalize dữ liệu"
   ]
  },
  {
   "cell_type": "code",
   "execution_count": 5,
   "id": "3452d716",
   "metadata": {},
   "outputs": [
    {
     "name": "stdout",
     "output_type": "stream",
     "text": [
      "Dữ liệu gốc: [10 20 30 40 50]\n",
      "Sau khi normalize: [0.   0.25 0.5  0.75 1.  ]\n"
     ]
    }
   ],
   "source": [
    "\n",
    "def normalize(arr):\n",
    "    return (arr - np.min(arr)) / (np.max(arr) - np.min(arr))\n",
    "\n",
    "data = np.array([10, 20, 30, 40, 50])\n",
    "print(\"Dữ liệu gốc:\", data)\n",
    "print(\"Sau khi normalize:\", normalize(data))\n"
   ]
  },
  {
   "cell_type": "markdown",
   "id": "1698581d",
   "metadata": {},
   "source": [
    "## 6. Bài tập nhỏ"
   ]
  },
  {
   "cell_type": "markdown",
   "id": "a31620cf",
   "metadata": {},
   "source": [
    "\n",
    "1. Tạo một ma trận 3x3 với số ngẫu nhiên từ 0 đến 9.\n",
    "2. Tính tổng từng hàng và từng cột.\n",
    "3. Viết hàm tính chuẩn hóa từng hàng trong ma trận.\n",
    "4. Thực hiện nhân ma trận 3x2 và 2x3.\n",
    "5. Lấy ra đường chéo chính của một ma trận vuông 4x4.\n"
   ]
  }
 ],
 "metadata": {
  "kernelspec": {
   "display_name": "newenv (3.12.7)",
   "language": "python",
   "name": "python3"
  },
  "language_info": {
   "codemirror_mode": {
    "name": "ipython",
    "version": 3
   },
   "file_extension": ".py",
   "mimetype": "text/x-python",
   "name": "python",
   "nbconvert_exporter": "python",
   "pygments_lexer": "ipython3",
   "version": "3.12.7"
  }
 },
 "nbformat": 4,
 "nbformat_minor": 5
}
