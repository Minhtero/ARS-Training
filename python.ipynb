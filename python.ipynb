{
 "cells": [
  {
   "cell_type": "code",
   "execution_count": 4,
   "id": "eb1d39b4",
   "metadata": {},
   "outputs": [
    {
     "name": "stdout",
     "output_type": "stream",
     "text": [
      "<class 'list'>\n",
      "<class 'dict'>\n",
      "2\n",
      "12\n"
     ]
    }
   ],
   "source": [
    "nums = [2,1,3,4,5]\n",
    "student = {\"name\":\"Minh\",\"age\":12,\"Math_grade\":9.5}\n",
    "print(type(nums))\n",
    "print(type(student))\n",
    "print(nums[0])\n",
    "print(student[\"age\"])\n"
   ]
  },
  {
   "cell_type": "code",
   "execution_count": 5,
   "id": "534bfed5",
   "metadata": {},
   "outputs": [
    {
     "ename": "ValueError",
     "evalue": "invalid literal for int() with base 10: ''",
     "output_type": "error",
     "traceback": [
      "\u001b[31m---------------------------------------------------------------------------\u001b[39m",
      "\u001b[31mValueError\u001b[39m                                Traceback (most recent call last)",
      "\u001b[36mCell\u001b[39m\u001b[36m \u001b[39m\u001b[32mIn[5]\u001b[39m\u001b[32m, line 1\u001b[39m\n\u001b[32m----> \u001b[39m\u001b[32m1\u001b[39m tuoi = \u001b[38;5;28;43mint\u001b[39;49m\u001b[43m(\u001b[49m\u001b[38;5;28;43minput\u001b[39;49m\u001b[43m(\u001b[49m\u001b[33;43m\"\u001b[39;49m\u001b[33;43mNhập số tuổi: \u001b[39;49m\u001b[33;43m\"\u001b[39;49m\u001b[43m)\u001b[49m\u001b[43m)\u001b[49m\n\u001b[32m      2\u001b[39m \u001b[38;5;28;01mif\u001b[39;00m tuoi <\u001b[32m18\u001b[39m :\n\u001b[32m      3\u001b[39m     \u001b[38;5;28mprint\u001b[39m(\u001b[33m\"\u001b[39m\u001b[33mChưa đủ tuổi\u001b[39m\u001b[33m\"\u001b[39m)\n",
      "\u001b[31mValueError\u001b[39m: invalid literal for int() with base 10: ''"
     ]
    }
   ],
   "source": [
    "tuoi = int(input(\"Nhập số tuổi: \"))\n",
    "if tuoi <18 :\n",
    "    print(\"Chưa đủ tuổi\")\n",
    "elif tuoi >=18 and tuoi<60:\n",
    "    print(\"Tuổi lao động\")\n",
    "else:\n",
    "    print(\"Tuổi nghỉ hưu\")"
   ]
  },
  {
   "cell_type": "code",
   "execution_count": null,
   "id": "f5b0f12b",
   "metadata": {},
   "outputs": [
    {
     "name": "stdout",
     "output_type": "stream",
     "text": [
      "1\n",
      "2\n",
      "3\n",
      "4\n",
      "5\n",
      "6\n",
      "7\n",
      "8\n",
      "9\n",
      "10\n",
      "1\n",
      "2\n",
      "3\n",
      "4\n",
      "5\n",
      "6\n",
      "7\n",
      "8\n",
      "9\n",
      "10\n"
     ]
    }
   ],
   "source": [
    "for i in range(1,11,1):\n",
    "    print(i)\n",
    "i = 1\n",
    "while i<=10:\n",
    "    print(i)\n",
    "    i+=1"
   ]
  },
  {
   "cell_type": "code",
   "execution_count": null,
   "id": "a71c01ce",
   "metadata": {},
   "outputs": [
    {
     "name": "stdout",
     "output_type": "stream",
     "text": [
      "1 4 2.5\n"
     ]
    }
   ],
   "source": [
    "def stats(nums):\n",
    "    mn = min(nums); mx = max(nums)\n",
    "    avg = sum(nums)/len(nums)\n",
    "    return mn, mx, avg\n",
    "\n",
    "mn, mx, avg = stats([1,2,3,4])\n",
    "print(mn, mx, avg)"
   ]
  },
  {
   "cell_type": "code",
   "execution_count": null,
   "id": "4c8a283b",
   "metadata": {},
   "outputs": [
    {
     "name": "stdout",
     "output_type": "stream",
     "text": [
      "3.0\n"
     ]
    }
   ],
   "source": [
    "nums = [1,2,3,4,5]\n",
    "def mean(nums: list[float]) -> float:\n",
    "    \"\"\"Tính trung bình của nums.\"\"\"\n",
    "    return sum(nums) / len(nums)\n",
    "print(mean(nums))"
   ]
  },
  {
   "cell_type": "code",
   "execution_count": null,
   "id": "e3378a6c",
   "metadata": {},
   "outputs": [
    {
     "name": "stdout",
     "output_type": "stream",
     "text": [
      "[2, 3, 4]\n",
      "25\n"
     ]
    }
   ],
   "source": [
    "square = lambda x: x*x\n",
    "print(list(map(lambda x: x+1, [1,2,3])))\n",
    "print(square(5))"
   ]
  },
  {
   "cell_type": "code",
   "execution_count": null,
   "id": "b8ed6149",
   "metadata": {},
   "outputs": [
    {
     "name": "stdout",
     "output_type": "stream",
     "text": [
      "3.6666666666666665\n"
     ]
    }
   ],
   "source": [
    "#Viết def mean_loop(nums): tính trung bình dùng vòng lặp (không dùng sum() hay len()).\n",
    "def mean_loop(nums):\n",
    "    total = 0\n",
    "    count = 0\n",
    "    for i in nums:\n",
    "        total = total + i\n",
    "        count +=1\n",
    "    return float(total/count)\n",
    "nums = [1,2,3,4,5,7]\n",
    "print(mean_loop(nums))"
   ]
  },
  {
   "cell_type": "code",
   "execution_count": null,
   "id": "8839f96a",
   "metadata": {},
   "outputs": [
    {
     "name": "stdout",
     "output_type": "stream",
     "text": [
      "[3, 4, 5, 6, 2]\n"
     ]
    }
   ],
   "source": [
    "#Viết def safe_append(x, lst=None): đảm bảo lần gọi liên tiếp không bị dính danh sách cũ.\n",
    "lst = [3,4,5,6]\n",
    "def safe_append(x, lst=None):\n",
    "    if lst is None:\n",
    "        lst = []\n",
    "    lst.append(x)\n",
    "    return lst\n",
    "safe_append(2,lst)\n",
    "print(lst)"
   ]
  },
  {
   "cell_type": "code",
   "execution_count": null,
   "id": "d3733feb",
   "metadata": {},
   "outputs": [
    {
     "name": "stdout",
     "output_type": "stream",
     "text": [
      "15\n"
     ]
    }
   ],
   "source": [
    "#Viết def make_multiplier(n): trả về hàm mul(x) như ví dụ; test times5 = make_multiplier(5); times5(3) -> 15.\n",
    "def make_multiplier(n):\n",
    "    def mul(x):\n",
    "        return x*n\n",
    "    return mul\n",
    "times5 =  make_multiplier(5)\n",
    "print(times5(3))"
   ]
  },
  {
   "cell_type": "code",
   "execution_count": null,
   "id": "9974181c",
   "metadata": {},
   "outputs": [],
   "source": [
    "#Đọc/ghi file text.\n",
    "f = open(\"data.txt\", \"r\")   # mở file data.txt với chế độ đọc (read)\n",
    "#Các chế độ (mode) thường dùng:\n",
    "\n",
    "#\"r\" → đọc (read)\n",
    "#\"w\" → ghi (write) → xoá nội dung cũ\n",
    "#\"a\" → ghi thêm (append)\n",
    "#\"rb\" / \"wb\" → đọc / ghi file nhị phân (ảnh, pdf…)"
   ]
  },
  {
   "cell_type": "code",
   "execution_count": null,
   "id": "d2888493",
   "metadata": {},
   "outputs": [],
   "source": [
    "# Đọc toàn bộ nội dung\n",
    "f = open(\"data.txt\", \"r\", encoding=\"utf-8\")\n",
    "content = f.read()\n",
    "print(content)\n",
    "f.close()\n",
    "# Đọc từng dòng\n",
    "f = open(\"data.txt\", \"r\", encoding=\"utf-8\")\n",
    "for line in f:\n",
    "    print(line.strip())   # .strip() bỏ xuống dòng\n",
    "f.close()\n",
    "# Ghi file\n",
    "f = open(\"output.txt\", \"w\", encoding=\"utf-8\")\n",
    "f.write(\"Xin chào!\\n\")\n",
    "f.write(\"Học Python ghi file nè.\\n\")\n",
    "f.close()\n",
    "# Ghi thêm\n",
    "with open(\"output.txt\", \"a\", encoding=\"utf-8\") as f:\n",
    "    f.write(\"Thêm dòng mới\\n\")\n"
   ]
  },
  {
   "cell_type": "code",
   "execution_count": 14,
   "id": "e04a1e61",
   "metadata": {},
   "outputs": [
    {
     "name": "stdout",
     "output_type": "stream",
     "text": [
      "Điểm trung bình lớp là: 6.84\n",
      "Danh sách sinh viên đỗ:\n",
      "Minh: 10.0\n",
      "Dung: 9.8\n",
      "Phương: 8.6\n",
      "Sâu: 5.0\n",
      "Mun: 8.4\n"
     ]
    }
   ],
   "source": [
    "#👉 Viết một chương trình quản lý danh sách điểm thi của sinh viên.\n",
    "\n",
    "#Yêu cầu:\n",
    "\n",
    "#Đọc file scores.txt (mỗi dòng: Tên,Điểm).\n",
    "\n",
    "#Tính điểm trung bình của cả lớp.\n",
    "\n",
    "#In ra danh sách sinh viên đỗ (điểm ≥ 5).\n",
    "\n",
    "#Lưu danh sách sinh viên trượt (điểm < 5) vào file failed.txt.\n",
    "\n",
    "#Tất cả logic xử lý nên viết gọn trong hàm.\n",
    "\n",
    "def process_scores(input_file=\"score.txt\", output_file=\"failed.txt\"):\n",
    "    students = []\n",
    "    with open(input_file, \"r\",encoding=\"utf-8\") as f:\n",
    "        for  line in f:\n",
    "            name,score = line.strip().split(\" \")\n",
    "            students.append((name, float(score)))\n",
    "    avg_score = sum(score for name, score in students) / len(students)\n",
    "    print(f\"Điểm trung bình lớp là: {avg_score:.2f}\")\n",
    "    print(\"Danh sách sinh viên đỗ:\")\n",
    "    for name, score in students:\n",
    "        if score >= 5:\n",
    "            print(f\"{name}: {score}\")\n",
    "    with open(output_file, \"w\", encoding=\"utf-8\") as f:\n",
    "        for name, score in students:\n",
    "            if score < 5:\n",
    "                f.write(f\"{name} {score}\\n\")\n",
    "process_scores()    \n",
    "    "
   ]
  },
  {
   "cell_type": "code",
   "execution_count": null,
   "id": "b04c7330",
   "metadata": {},
   "outputs": [],
   "source": []
  }
 ],
 "metadata": {
  "kernelspec": {
   "display_name": "newenv (3.12.7)",
   "language": "python",
   "name": "python3"
  },
  "language_info": {
   "codemirror_mode": {
    "name": "ipython",
    "version": 3
   },
   "file_extension": ".py",
   "mimetype": "text/x-python",
   "name": "python",
   "nbconvert_exporter": "python",
   "pygments_lexer": "ipython3",
   "version": "3.12.7"
  }
 },
 "nbformat": 4,
 "nbformat_minor": 5
}
